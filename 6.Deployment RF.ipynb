{
 "cells": [
  {
   "cell_type": "code",
   "execution_count": 1,
   "id": "836754c0-2b41-4b0d-a630-20d952489630",
   "metadata": {},
   "outputs": [],
   "source": [
    "import pickle"
   ]
  },
  {
   "cell_type": "code",
   "execution_count": 2,
   "id": "4f71570b-6007-4d5d-8019-b2024d5040df",
   "metadata": {},
   "outputs": [],
   "source": [
    "loaded_model=pickle.load(open(\"model_RF_classification.sav\",'rb'))      \n",
    "result=loaded_model.predict([[42,159660.80,3.0,0,0,0,0]])"
   ]
  },
  {
   "cell_type": "code",
   "execution_count": 3,
   "id": "82abb247-a3ac-4306-a7fa-a845f26c79dd",
   "metadata": {},
   "outputs": [
    {
     "data": {
      "text/plain": [
       "array([1], dtype=int64)"
      ]
     },
     "execution_count": 3,
     "metadata": {},
     "output_type": "execute_result"
    }
   ],
   "source": [
    "result"
   ]
  },
  {
   "cell_type": "code",
   "execution_count": 4,
   "id": "2eb35063-b435-45ff-80be-2e27acafd000",
   "metadata": {},
   "outputs": [
    {
     "name": "stdout",
     "output_type": "stream",
     "text": [
      "customer is likely to leave the bank\n"
     ]
    }
   ],
   "source": [
    "if result[0] == 1:\n",
    "    print(\"customer is likely to leave the bank\") \n",
    "else:\n",
    "    print(\"customer is not leaving the bank\")"
   ]
  },
  {
   "cell_type": "code",
   "execution_count": null,
   "id": "945b9109-1684-4114-a5a6-e9e59eab6ba8",
   "metadata": {},
   "outputs": [],
   "source": []
  },
  {
   "cell_type": "code",
   "execution_count": null,
   "id": "886b1728-9e17-42ca-a6a9-6ee5111a62d5",
   "metadata": {},
   "outputs": [],
   "source": []
  }
 ],
 "metadata": {
  "kernelspec": {
   "display_name": "Python 3 (ipykernel)",
   "language": "python",
   "name": "python3"
  },
  "language_info": {
   "codemirror_mode": {
    "name": "ipython",
    "version": 3
   },
   "file_extension": ".py",
   "mimetype": "text/x-python",
   "name": "python",
   "nbconvert_exporter": "python",
   "pygments_lexer": "ipython3",
   "version": "3.11.11"
  }
 },
 "nbformat": 4,
 "nbformat_minor": 5
}
